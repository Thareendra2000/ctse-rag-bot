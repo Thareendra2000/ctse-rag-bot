{
 "cells": [
  {
   "cell_type": "markdown",
   "id": "aa243a0f",
   "metadata": {
    "vscode": {
     "languageId": "markdown"
    }
   },
   "source": [
    "####  1. Load API Key and Required Libraries\n",
    "\n",
    "This code initializes the environment by:\n",
    "- Loading environment variables from a .env file\n",
    "- Retrieving the Gemini API key\n",
    "- Setting up the API endpoint URL for making requests\n"
   ]
  },
  {
   "cell_type": "code",
   "execution_count": 6,
   "id": "0835f884",
   "metadata": {},
   "outputs": [
    {
     "name": "stdout",
     "output_type": "stream",
     "text": [
      "Gemini API key loaded successfully.\n"
     ]
    }
   ],
   "source": [
    "import os\n",
    "import requests\n",
    "from dotenv import load_dotenv\n",
    "\n",
    "load_dotenv()\n",
    "GEMINI_API_KEY = os.getenv(\"GEMINI_API_KEY\")\n",
    "if GEMINI_API_KEY:\n",
    "    print(\"Gemini API key loaded successfully.\")\n",
    "else:\n",
    "    print(\"Failed to load Gemini API key.\")\n",
    "API_URL = f\"https://generativelanguage.googleapis.com/v1beta/models/gemini-2.0-flash:generateContent?key={GEMINI_API_KEY}\""
   ]
  },
  {
   "cell_type": "markdown",
   "id": "28893dcb",
   "metadata": {
    "vscode": {
     "languageId": "r"
    }
   },
   "source": [
    "#### 2. Load and Split Lecture PDF\n",
    "\n",
    "Processes PDF documents by:\n",
    "- Loading PDF files using PyMuPDFLoader\n",
    "- Splitting content into smaller chunks for processing\n",
    "- Creating a context string with character limits (~12k)"
   ]
  },
  {
   "cell_type": "code",
   "execution_count": 7,
   "id": "c11f92e5",
   "metadata": {},
   "outputs": [
    {
     "name": "stdout",
     "output_type": "stream",
     "text": [
      "Successfully loaded 28 pages from PDF\n",
      "Document split into 28 chunks\n",
      "Context string created with 7743 characters\n"
     ]
    }
   ],
   "source": [
    "import glob\n",
    "from langchain.document_loaders import PyMuPDFLoader\n",
    "from langchain.text_splitter import RecursiveCharacterTextSplitter\n",
    "\n",
    "# Get all PDF files in the folder\n",
    "pdf_files = glob.glob(\"docs/*.pdf\")\n",
    "\n",
    "# Initialize empty lists to store all docs and chunks\n",
    "all_docs = []\n",
    "all_chunks = []\n",
    "\n",
    "# Process each PDF file\n",
    "for pdf_file in pdf_files:\n",
    "    loader = PyMuPDFLoader(pdf_file)\n",
    "    docs = loader.load()\n",
    "    all_docs.extend(docs)\n",
    "    print(f\"Successfully loaded {len(docs)} pages from {pdf_file}\")\n",
    "\n",
    "# Split all documents into chunks\n",
    "splitter = RecursiveCharacterTextSplitter(chunk_size=1000, chunk_overlap=100)\n",
    "chunks = splitter.split_documents(all_docs)\n",
    "print(f\"Documents split into {len(chunks)} chunks\")\n",
    "\n",
    "# Combine into a single context string (limit to ~12k chars)\n",
    "context = \"\\n\\n\".join([doc.page_content for doc in chunks])[:12000]\n",
    "print(f\"Context string created with {len(context)} characters\")\n"
   ]
  },
  {
   "cell_type": "markdown",
   "id": "5a5d1159",
   "metadata": {},
   "source": [
    "#### 3. Ask Questions from Gemini\n",
    "\n",
    "Enables Q&A functionality through:\n",
    "- An ask_gemini() function that takes questions\n",
    "- Uses the processed PDF content as context\n",
    "- Returns AI-generated answers via the Gemini API"
   ]
  },
  {
   "cell_type": "code",
   "execution_count": 8,
   "id": "e19cf2c0",
   "metadata": {},
   "outputs": [],
   "source": [
    "def ask_gemini(question):\n",
    "    prompt = f\"\"\"\n",
    "Use the following MADD lecture notes to answer the question.\n",
    "Please include page numbers from the lecture notes where you found the information.\n",
    "\n",
    "Lecture Notes:\n",
    "{context}\n",
    "\n",
    "Question:\n",
    "{question}\n",
    "\n",
    "Please format your answer to include relevant page numbers in brackets [Page X] where the information comes from.\n",
    "\"\"\"\n",
    "    payload = {\n",
    "        \"contents\": [\n",
    "            {\n",
    "                \"parts\": [{\"text\": prompt}]\n",
    "            }\n",
    "        ]\n",
    "    }\n",
    "    headers = {\"Content-Type\": \"application/json\"}\n",
    "    \n",
    "    response = requests.post(API_URL, headers=headers, json=payload)\n",
    "    \n",
    "    if response.status_code == 200:\n",
    "        return response.json()[\"candidates\"][0][\"content\"][\"parts\"][0][\"text\"]\n",
    "    else:\n",
    "        return f\"Error: {response.status_code} - {response.text}\"\n"
   ]
  },
  {
   "cell_type": "markdown",
   "id": "cc05a313",
   "metadata": {},
   "source": [
    "#### 4. Print the Answer"
   ]
  },
  {
   "cell_type": "code",
   "execution_count": 9,
   "id": "43bcf896",
   "metadata": {},
   "outputs": [
    {
     "name": "stdout",
     "output_type": "stream",
     "text": [
      "In Swift, a closure is essentially a self-contained block of functionality that can be passed around and used in your code. Swift allows you to use a function as a type, just like an integer or a string. [Page 18].\n",
      "\n",
      "Here's a breakdown:\n",
      "\n",
      "*   **Functions as Types:** Swift treats functions as first-class citizens. This means you can assign a function to a variable. [Page 18].\n",
      "\n",
      "*   **Capture Values:** Closures can \"capture\" references to constants and variables from the surrounding context (the scope in which they are defined). This is known as \"closing over\" values. [Page 18]. This means the closure can access and even modify those variables, even if the surrounding scope is no longer active.\n",
      "\n",
      "*   **Use Cases:** Closures are particularly useful in scenarios where you want to store some functionality to be executed later or repeatedly. Some common use cases include:\n",
      "    *   Waiting for a period of time before executing code. [Page 19].\n",
      "    *   Handling UI animations or interactions that need to complete before further actions are taken. [Page 19].\n",
      "    *   Asynchronous operations, such as network requests, where you want to execute code upon completion. [Page 19].\n",
      "\n",
      "*   **Example:** The lecture notes provide an example demonstrating a function `cooked(pizza: String, minutes: Int)` and its closure equivalent:\n",
      "\n",
      "```swift\n",
      "func cooked(pizza: String, minutes: Int) {\n",
      "    print(\"\\(pizza) Pizza is cooked in \\(minutes) minutes.\")\n",
      "}\n",
      "let pizzaCooked = { (pizza: String, minutes: Int) in\n",
      "  print(\"\\(pizza) Pizza is cooked in \\(minutes) minutes.\")\n",
      "}\n",
      "```\n",
      "[Page 20]\n",
      "\n",
      "In this example, `pizzaCooked` is a closure assigned to a variable. It takes a pizza name (String) and cooking time (Int) as input, and prints a message.\n",
      "\n"
     ]
    }
   ],
   "source": [
    "print(ask_gemini(\"Explain the closure in swift?\"))\n"
   ]
  }
 ],
 "metadata": {
  "kernelspec": {
   "display_name": "venv",
   "language": "python",
   "name": "python3"
  },
  "language_info": {
   "codemirror_mode": {
    "name": "ipython",
    "version": 3
   },
   "file_extension": ".py",
   "mimetype": "text/x-python",
   "name": "python",
   "nbconvert_exporter": "python",
   "pygments_lexer": "ipython3",
   "version": "3.12.5"
  }
 },
 "nbformat": 4,
 "nbformat_minor": 5
}
